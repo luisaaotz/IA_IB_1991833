{
  "nbformat": 4,
  "nbformat_minor": 0,
  "metadata": {
    "colab": {
      "provenance": [],
      "collapsed_sections": []
    },
    "kernelspec": {
      "name": "python3",
      "display_name": "Python 3"
    },
    "language_info": {
      "name": "python"
    }
  },
  "cells": [
    {
      "cell_type": "markdown",
      "source": [
        "A2: Python exercises.\n",
        "\n",
        "Luisa Daniela Ortíz Juárez 1991833\n",
        "\n",
        "\n",
        "Class time: Tuesday, N4-N5"
      ],
      "metadata": {
        "id": "sINhTdV5UjcT"
      }
    },
    {
      "cell_type": "markdown",
      "source": [
        "Exercise 1.-\n",
        "\n",
        "Create a python script where the user is going to be asked for the name. After that, the program will greet the user with the given name. Only exception: the script will not greet the user if the given name is \"Ana\", \"John\" or \"Peter\"."
      ],
      "metadata": {
        "id": "4BjTg89B8wiw"
      }
    },
    {
      "cell_type": "code",
      "source": [
        "name = input(\"What´s your name?:   \")\n",
        "if name == \"John\" or name==\"Ana\" or name==\"Peter\":\n",
        "  print(\"Error! insert valid names.\")\n",
        "else:\n",
        "    print(\"Hello \" + name + \"!\")"
      ],
      "metadata": {
        "colab": {
          "base_uri": "https://localhost:8080/"
        },
        "id": "EgK1gONaUoat",
        "outputId": "1d9e17a4-4597-4b34-c0cd-e0ff4d2cd9e4"
      },
      "execution_count": 1,
      "outputs": [
        {
          "output_type": "stream",
          "name": "stdout",
          "text": [
            "What´s your name?:   Luisa\n",
            "Hello Luisa!\n"
          ]
        }
      ]
    },
    {
      "cell_type": "markdown",
      "source": [
        "Exercise 2.-\n",
        "\n",
        "Create a function in a pyhton script that returns (print) the last element of a given list, reverts the order of the list and finally returns (print) the reverted list. "
      ],
      "metadata": {
        "id": "oJT_QPfq9uU1"
      }
    },
    {
      "cell_type": "code",
      "source": [
        "List=[\"grapes\",\"mango\",\"orange\",\"cantaloupe\",\"watermelon\",\"kiwi\"]\n",
        "print(List[-1])\n",
        "List1=list(reversed(List))\n",
        "print(List1)"
      ],
      "metadata": {
        "colab": {
          "base_uri": "https://localhost:8080/"
        },
        "id": "aFy25Oow1tns",
        "outputId": "81e65b0b-82c3-4107-99ba-b349e52bbf11"
      },
      "execution_count": 29,
      "outputs": [
        {
          "output_type": "stream",
          "name": "stdout",
          "text": [
            "kiwi\n",
            "['kiwi', 'watermelon', 'cantaloupe', 'orange', 'mango', 'grapes']\n"
          ]
        }
      ]
    },
    {
      "cell_type": "code",
      "source": [],
      "metadata": {
        "id": "2dSKkNxC93Gc"
      },
      "execution_count": null,
      "outputs": []
    },
    {
      "cell_type": "markdown",
      "source": [
        "Exercise 3.-\n",
        "\n",
        "Create a function in a python script that takes a list of strings as input and then it prints, line by line, the whole list in a rectangular shape. E.g., the list could be [\"Hi\", \"my\", \"name\", \"is\", \"John\", \"Doe\"] and the final result is:"
      ],
      "metadata": {
        "id": "97MzNwvx9zRD"
      }
    },
    {
      "cell_type": "code",
      "source": [
        "def my_function(phrase): \n",
        "  print(\"***********\") \n",
        "  for x in phrase: \n",
        "    print(\"* \"+x+\"  *  \") \n",
        "  print(\"***********\")\n",
        "\n",
        "phrase = [\"Hello \",\"my    \", \"name  \", \"is    \", \"Luisa \"] \n",
        "my_function(phrase) "
      ],
      "metadata": {
        "colab": {
          "base_uri": "https://localhost:8080/"
        },
        "id": "69drmnamzEzr",
        "outputId": "5630609f-d343-4bda-d8c8-3bd865fb3abc"
      },
      "execution_count": 45,
      "outputs": [
        {
          "output_type": "stream",
          "name": "stdout",
          "text": [
            "***********\n",
            "* Hello   *  \n",
            "* my      *  \n",
            "* name    *  \n",
            "* is      *  \n",
            "* Luisa   *  \n",
            "***********\n"
          ]
        }
      ]
    }
  ]
}